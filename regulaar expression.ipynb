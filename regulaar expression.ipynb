{
 "cells": [
  {
   "cell_type": "code",
   "execution_count": 1,
   "id": "6ec58dce-081c-45e5-b4bd-98aaf08368d7",
   "metadata": {},
   "outputs": [],
   "source": [
    "text=\"the agent's phone number is 408-555-1234.call soon!\""
   ]
  },
  {
   "cell_type": "code",
   "execution_count": 2,
   "id": "729c4c30-d6cb-4b8c-bb64-a0ea86c2319e",
   "metadata": {},
   "outputs": [
    {
     "data": {
      "text/plain": [
       "True"
      ]
     },
     "execution_count": 2,
     "metadata": {},
     "output_type": "execute_result"
    }
   ],
   "source": [
    "'phone' in text"
   ]
  },
  {
   "cell_type": "code",
   "execution_count": 3,
   "id": "a77c21ed-eccb-438a-8ebe-9f47bd7bc0e1",
   "metadata": {},
   "outputs": [],
   "source": [
    "import re       #re means regular expression"
   ]
  },
  {
   "cell_type": "code",
   "execution_count": 4,
   "id": "4740572f-9d1c-4ff6-bb3a-f974ea2178c8",
   "metadata": {},
   "outputs": [],
   "source": [
    "pattern='phone'"
   ]
  },
  {
   "cell_type": "code",
   "execution_count": 5,
   "id": "cd739908-9f26-41ed-aa51-624ef8f54816",
   "metadata": {},
   "outputs": [
    {
     "data": {
      "text/plain": [
       "<re.Match object; span=(12, 17), match='phone'>"
      ]
     },
     "execution_count": 5,
     "metadata": {},
     "output_type": "execute_result"
    }
   ],
   "source": [
    "re.search(pattern,text)"
   ]
  },
  {
   "cell_type": "code",
   "execution_count": 6,
   "id": "6b6c1f54-83ef-4798-ade0-ee87377169a1",
   "metadata": {},
   "outputs": [],
   "source": [
    "pattern='not in text'"
   ]
  },
  {
   "cell_type": "code",
   "execution_count": 7,
   "id": "06e80db6-7238-4aeb-82ad-047e16bb6d18",
   "metadata": {},
   "outputs": [],
   "source": [
    "re.search(pattern,text)"
   ]
  },
  {
   "cell_type": "code",
   "execution_count": 8,
   "id": "5e52451a-5abc-40b4-b41f-06a93813cf30",
   "metadata": {},
   "outputs": [],
   "source": [
    "pattern='phone'\n"
   ]
  },
  {
   "cell_type": "code",
   "execution_count": 9,
   "id": "23a57239-2563-4cc3-bc86-ac676a0993d1",
   "metadata": {},
   "outputs": [],
   "source": [
    "match=re.search(pattern,text)"
   ]
  },
  {
   "cell_type": "code",
   "execution_count": 10,
   "id": "09373c15-645e-42b1-8ffc-b4c748f17f64",
   "metadata": {},
   "outputs": [],
   "source": [
    "#match object        it is also use like search"
   ]
  },
  {
   "cell_type": "code",
   "execution_count": 11,
   "id": "3405fd34-c2ee-40a4-9efe-e8bd844c333e",
   "metadata": {},
   "outputs": [
    {
     "data": {
      "text/plain": [
       "<re.Match object; span=(12, 17), match='phone'>"
      ]
     },
     "execution_count": 11,
     "metadata": {},
     "output_type": "execute_result"
    }
   ],
   "source": [
    "match"
   ]
  },
  {
   "cell_type": "code",
   "execution_count": 12,
   "id": "0668bec4-f42f-4913-91d6-32f7c1bd3762",
   "metadata": {},
   "outputs": [
    {
     "data": {
      "text/plain": [
       "(12, 17)"
      ]
     },
     "execution_count": 12,
     "metadata": {},
     "output_type": "execute_result"
    }
   ],
   "source": [
    "match.span()"
   ]
  },
  {
   "cell_type": "code",
   "execution_count": 13,
   "id": "0bcf1099-1bfd-4f00-a1f8-f0accb59c579",
   "metadata": {},
   "outputs": [
    {
     "data": {
      "text/plain": [
       "12"
      ]
     },
     "execution_count": 13,
     "metadata": {},
     "output_type": "execute_result"
    }
   ],
   "source": [
    "match.start()"
   ]
  },
  {
   "cell_type": "code",
   "execution_count": 14,
   "id": "1ea921da-fe6d-46c4-9bf7-c9bfccc06dd2",
   "metadata": {},
   "outputs": [
    {
     "data": {
      "text/plain": [
       "17"
      ]
     },
     "execution_count": 14,
     "metadata": {},
     "output_type": "execute_result"
    }
   ],
   "source": [
    "match.end()"
   ]
  },
  {
   "cell_type": "code",
   "execution_count": 15,
   "id": "3e580a1a-ccd8-40c4-aa97-6dce300163c3",
   "metadata": {},
   "outputs": [],
   "source": [
    "text=\"my phone is a new phone\""
   ]
  },
  {
   "cell_type": "code",
   "execution_count": 16,
   "id": "64ce70ad-f769-4e95-b596-81ca2d681c4f",
   "metadata": {},
   "outputs": [],
   "source": [
    "match = re.search(\"phone\",text)"
   ]
  },
  {
   "cell_type": "code",
   "execution_count": 17,
   "id": "4b39c8eb-5690-435b-8777-1edc8b0f54ca",
   "metadata": {},
   "outputs": [
    {
     "data": {
      "text/plain": [
       "(3, 8)"
      ]
     },
     "execution_count": 17,
     "metadata": {},
     "output_type": "execute_result"
    }
   ],
   "source": [
    "match.span()"
   ]
  },
  {
   "cell_type": "code",
   "execution_count": 18,
   "id": "f9cbc63c-7809-495e-81ff-79f5e6920ce9",
   "metadata": {},
   "outputs": [
    {
     "data": {
      "text/plain": [
       "['phone', 'phone']"
      ]
     },
     "execution_count": 18,
     "metadata": {},
     "output_type": "execute_result"
    }
   ],
   "source": [
    "matches = re.findall(\"phone\",text)\n",
    "matches"
   ]
  },
  {
   "cell_type": "code",
   "execution_count": 19,
   "id": "398fbca5-4fab-49e9-9c9a-2386b94da76b",
   "metadata": {},
   "outputs": [
    {
     "data": {
      "text/plain": [
       "2"
      ]
     },
     "execution_count": 19,
     "metadata": {},
     "output_type": "execute_result"
    }
   ],
   "source": [
    "len(matches)"
   ]
  },
  {
   "cell_type": "code",
   "execution_count": 20,
   "id": "8368a159-3500-4a24-8231-af2b54fc0aac",
   "metadata": {},
   "outputs": [
    {
     "name": "stdout",
     "output_type": "stream",
     "text": [
      "(3, 8)\n",
      "(18, 23)\n"
     ]
    }
   ],
   "source": [
    "# to get actual matches\n",
    "for match in re.finditer(\"phone\",text):\n",
    "    print(match.span())"
   ]
  },
  {
   "cell_type": "code",
   "execution_count": 21,
   "id": "de6d9b81-ad31-4bca-b581-de7eb36e557a",
   "metadata": {},
   "outputs": [],
   "source": [
    "#pattern"
   ]
  },
  {
   "cell_type": "code",
   "execution_count": 22,
   "id": "d5f9052e-ba6f-438c-be53-0d72ffaff1da",
   "metadata": {},
   "outputs": [],
   "source": [
    "text=\"my telephone number is 408-555-1234\""
   ]
  },
  {
   "cell_type": "code",
   "execution_count": 23,
   "id": "5f578512-242c-4557-83b3-9c5af6814d6b",
   "metadata": {},
   "outputs": [],
   "source": [
    "phone=re.search(r'\\d\\d\\d-\\d\\d\\d-\\d\\d\\d\\d',text)       #\\d=it is usee for a digit...."
   ]
  },
  {
   "cell_type": "code",
   "execution_count": 24,
   "id": "e78abd50-7bd6-43d1-b3dc-7075d685d959",
   "metadata": {},
   "outputs": [
    {
     "data": {
      "text/plain": [
       "'408-555-1234'"
      ]
     },
     "execution_count": 24,
     "metadata": {},
     "output_type": "execute_result"
    }
   ],
   "source": [
    "phone.group()"
   ]
  },
  {
   "cell_type": "code",
   "execution_count": 25,
   "id": "61b48ebf-d3f9-4890-9bc2-0eca73c9c1bf",
   "metadata": {},
   "outputs": [],
   "source": [
    "#group"
   ]
  },
  {
   "cell_type": "code",
   "execution_count": 26,
   "id": "4fd11f7d-c900-43b1-be8e-ee13186b1900",
   "metadata": {},
   "outputs": [],
   "source": [
    "phone_pattern=re.compile(r'(\\d{3})-(\\d{3})-(\\d{4})')"
   ]
  },
  {
   "cell_type": "code",
   "execution_count": 27,
   "id": "3ba2e901-d2b3-42e5-a72b-4374e1177db5",
   "metadata": {},
   "outputs": [],
   "source": [
    "results=re.search(phone_pattern,text)"
   ]
  },
  {
   "cell_type": "code",
   "execution_count": 28,
   "id": "bfcd4e84-5007-44f3-b604-bc1552e35ba6",
   "metadata": {},
   "outputs": [
    {
     "data": {
      "text/plain": [
       "'408-555-1234'"
      ]
     },
     "execution_count": 28,
     "metadata": {},
     "output_type": "execute_result"
    }
   ],
   "source": [
    "#the entire result\n",
    "results.group()"
   ]
  },
  {
   "cell_type": "code",
   "execution_count": 29,
   "id": "1d40cb8f-2c2a-4c66-ae80-23b1448b7fc6",
   "metadata": {},
   "outputs": [
    {
     "data": {
      "text/plain": [
       "'408'"
      ]
     },
     "execution_count": 29,
     "metadata": {},
     "output_type": "execute_result"
    }
   ],
   "source": [
    "results.group(1)"
   ]
  },
  {
   "cell_type": "code",
   "execution_count": 30,
   "id": "d22287d0-b46e-49a4-89a1-27b8cd4be7f2",
   "metadata": {},
   "outputs": [
    {
     "data": {
      "text/plain": [
       "'555'"
      ]
     },
     "execution_count": 30,
     "metadata": {},
     "output_type": "execute_result"
    }
   ],
   "source": [
    "results.group(2)"
   ]
  },
  {
   "cell_type": "code",
   "execution_count": 31,
   "id": "fe3cd475-b99f-4ff9-a763-708c5f833ecd",
   "metadata": {},
   "outputs": [
    {
     "data": {
      "text/plain": [
       "'1234'"
      ]
     },
     "execution_count": 31,
     "metadata": {},
     "output_type": "execute_result"
    }
   ],
   "source": [
    "results.group(3)"
   ]
  },
  {
   "cell_type": "code",
   "execution_count": 32,
   "id": "3fcb8e4c-7da0-4a39-acad-7995235008a1",
   "metadata": {},
   "outputs": [
    {
     "ename": "IndexError",
     "evalue": "no such group",
     "output_type": "error",
     "traceback": [
      "\u001b[1;31m---------------------------------------------------------------------------\u001b[0m",
      "\u001b[1;31mIndexError\u001b[0m                                Traceback (most recent call last)",
      "Cell \u001b[1;32mIn[32], line 1\u001b[0m\n\u001b[1;32m----> 1\u001b[0m results\u001b[38;5;241m.\u001b[39mgroup(\u001b[38;5;241m4\u001b[39m)\n",
      "\u001b[1;31mIndexError\u001b[0m: no such group"
     ]
    }
   ],
   "source": [
    "results.group(4)"
   ]
  },
  {
   "cell_type": "code",
   "execution_count": null,
   "id": "6de736bf-81b3-4875-a759-8b8349025682",
   "metadata": {},
   "outputs": [],
   "source": [
    "#additional regex syntax"
   ]
  },
  {
   "cell_type": "code",
   "execution_count": null,
   "id": "8f2c265e-4107-4c26-a95d-7005151e8de0",
   "metadata": {},
   "outputs": [],
   "source": [
    "#####or operator\\"
   ]
  },
  {
   "cell_type": "code",
   "execution_count": null,
   "id": "f94cc671-8041-4400-86d0-91561c39c2d3",
   "metadata": {},
   "outputs": [],
   "source": [
    "re.search(r\"man|woman\",\"this man was here.\")"
   ]
  },
  {
   "cell_type": "code",
   "execution_count": null,
   "id": "1ec20b40-1d6b-47ea-8863-9b4a6bde4f64",
   "metadata": {},
   "outputs": [],
   "source": [
    "re.search(r\"man|woman\",\"this woman was here.\")"
   ]
  },
  {
   "cell_type": "code",
   "execution_count": null,
   "id": "901cb740-d2cb-4bae-8ba6-de52c035fd1e",
   "metadata": {},
   "outputs": [],
   "source": [
    "##THE WILDCARD CHARACTERS"
   ]
  },
  {
   "cell_type": "code",
   "execution_count": null,
   "id": "d409b9d1-d341-43e0-8028-3358be440263",
   "metadata": {},
   "outputs": [],
   "source": [
    "re.findall(r\".at\",\"the cat in the hat sat here.\")"
   ]
  },
  {
   "cell_type": "code",
   "execution_count": null,
   "id": "9aecc47e-d790-4074-8185-372edc19f841",
   "metadata": {},
   "outputs": [],
   "source": [
    "re.findall(r\".at\",\"the bat went splat.\")"
   ]
  },
  {
   "cell_type": "code",
   "execution_count": null,
   "id": "7b9e136d-a62c-4cd5-91a3-4a67e3594e6e",
   "metadata": {},
   "outputs": [],
   "source": [
    "re.findall(r\"...at\",\"the bat went splat.\")"
   ]
  },
  {
   "cell_type": "code",
   "execution_count": null,
   "id": "48f29260-f020-4ecb-a02d-ffbd80b08b21",
   "metadata": {},
   "outputs": [],
   "source": [
    "#one or more non-whitespace that ends with 'at'\n",
    "re.findall(r'\\S+at',\"the bat went splat\")     #\\S use for non whitespace and + usee for one or more times...."
   ]
  },
  {
   "cell_type": "code",
   "execution_count": null,
   "id": "d8671fc3-9920-45cf-b179-884805ed2a81",
   "metadata": {},
   "outputs": [],
   "source": [
    "#START S WITH ENDS WITH"
   ]
  },
  {
   "cell_type": "code",
   "execution_count": null,
   "id": "1873afd1-fed0-4fed-92f8-3f57c4cb779e",
   "metadata": {},
   "outputs": [],
   "source": [
    "#end with a number\n",
    "re.findall(r'\\d$','the end with a number 2')"
   ]
  },
  {
   "cell_type": "code",
   "execution_count": null,
   "id": "893ae163-0b6f-4131-b401-293bfd3b9222",
   "metadata": {},
   "outputs": [],
   "source": [
    "#start with a number\n",
    "re.findall(r'^\\d',\"2 is the bat went splat\")"
   ]
  },
  {
   "cell_type": "code",
   "execution_count": null,
   "id": "3e6d6aa9-a447-440f-b779-02ca3228d545",
   "metadata": {},
   "outputs": [],
   "source": [
    "#EXCLUSION\n",
    "#TO EXCLUDE CHARACTERS ,WE CAN USE THE^ SYMBOL IN CONJUCTION WITH A SET OF BRACKETS[]# ANYTHING INSIDE THE BRACKET IS EXCLUDED."
   ]
  },
  {
   "cell_type": "code",
   "execution_count": null,
   "id": "67a4607a-f291-4719-beea-76e92b0240d6",
   "metadata": {},
   "outputs": [],
   "source": [
    "PHRASE =\"THERE ARE 3 NUMBERS 34 INSIDE 5 THIS SENTENCE.\""
   ]
  },
  {
   "cell_type": "code",
   "execution_count": null,
   "id": "008916a2-e45f-4638-ae19-d7595a13622b",
   "metadata": {},
   "outputs": [],
   "source": [
    "re.findall(r'[^\\d]',PHRASE)"
   ]
  },
  {
   "cell_type": "code",
   "execution_count": null,
   "id": "58b4f90d-f550-45da-b558-1e1fcc44468d",
   "metadata": {},
   "outputs": [],
   "source": [
    "re.findall(r'[^\\d]+',PHRASE)         #when we use + they give a words"
   ]
  },
  {
   "cell_type": "code",
   "execution_count": null,
   "id": "fc276594-8c1a-4a5a-b458-1373f46e99f8",
   "metadata": {},
   "outputs": [],
   "source": [
    "re.findall(r'[^\\d]-',PHRASE)"
   ]
  },
  {
   "cell_type": "code",
   "execution_count": null,
   "id": "72fe7a97-9ea8-4536-a1b6-f260e9bd4ce1",
   "metadata": {},
   "outputs": [],
   "source": [
    "#we remove punctuation from a sentences.."
   ]
  },
  {
   "cell_type": "code",
   "execution_count": null,
   "id": "61010f04-61ce-40ed-a49a-d66eb8cc0433",
   "metadata": {},
   "outputs": [],
   "source": [
    "test_phrase=\"this is a string!but it has punctuation,how can we remove it?\""
   ]
  },
  {
   "cell_type": "code",
   "execution_count": null,
   "id": "1e69545c-7913-4188-b24e-80dfca6bcb44",
   "metadata": {},
   "outputs": [],
   "source": [
    "re.findall('[^!.? ]+',test_phrase)"
   ]
  },
  {
   "cell_type": "code",
   "execution_count": null,
   "id": "d3dfa144-ce9d-4c44-aebc-58d1e2b00a3c",
   "metadata": {},
   "outputs": [],
   "source": [
    "clean=' '.join(re.findall('[^!.?]+',test_phrase))"
   ]
  },
  {
   "cell_type": "code",
   "execution_count": null,
   "id": "35fb92f6-8b29-45aa-add8-230ea53e42b8",
   "metadata": {},
   "outputs": [],
   "source": [
    "clean"
   ]
  },
  {
   "cell_type": "code",
   "execution_count": null,
   "id": "0ccb2eb0-a17c-4634-96cf-768815218de7",
   "metadata": {},
   "outputs": [],
   "source": [
    "#bracket for grouping===as we showed abbove we can use brackets to group together option,for example if we wanted to find hyphenated words:"
   ]
  },
  {
   "cell_type": "code",
   "execution_count": 39,
   "id": "c34b236a-760b-434d-901e-861a3ea718a1",
   "metadata": {},
   "outputs": [],
   "source": [
    "text1='only find the hyphe-nated words in this sentence but you do not know how long-ish they are'"
   ]
  },
  {
   "cell_type": "code",
   "execution_count": 40,
   "id": "c28429d8-7786-46ab-9b9d-f13cfc18aa52",
   "metadata": {},
   "outputs": [
    {
     "data": {
      "text/plain": [
       "['hyphe-nated', 'long-ish']"
      ]
     },
     "execution_count": 40,
     "metadata": {},
     "output_type": "execute_result"
    }
   ],
   "source": [
    "re.findall(r'[\\w]+-[\\w]+',text1)"
   ]
  },
  {
   "cell_type": "code",
   "execution_count": 41,
   "id": "676abcbf-642b-4031-a4d6-853869e570ff",
   "metadata": {},
   "outputs": [
    {
     "data": {
      "text/plain": [
       "[]"
      ]
     },
     "execution_count": 41,
     "metadata": {},
     "output_type": "execute_result"
    }
   ],
   "source": [
    "re.findall(r'[\\w]+-[\\w]-',text1)"
   ]
  },
  {
   "cell_type": "code",
   "execution_count": 42,
   "id": "1bd99298-7876-480d-a477-e575caf79807",
   "metadata": {},
   "outputs": [
    {
     "data": {
      "text/plain": [
       "['hyphe-n', 'long-i']"
      ]
     },
     "execution_count": 42,
     "metadata": {},
     "output_type": "execute_result"
    }
   ],
   "source": [
    "re.findall(r'[\\w]+-[\\w]',text1)"
   ]
  },
  {
   "cell_type": "code",
   "execution_count": 43,
   "id": "0310b8b4-3810-4f73-975f-b7f09b5faa10",
   "metadata": {},
   "outputs": [],
   "source": [
    "#parentheses for multiple option:- if we ghave multiple option for matching we can usee paranthesis to list out these option.for example"
   ]
  },
  {
   "cell_type": "code",
   "execution_count": 46,
   "id": "6cc00d8c-fe52-4ab5-87d7-605a74938631",
   "metadata": {},
   "outputs": [],
   "source": [
    "#find words that starts with cat and end with one of these option:\"fish\",\"nap\",\"claaw\"\n",
    "textone='hello,would you like some catfish?'\n",
    "texttwo='hello,would you like to take a catnap?'\n",
    "textthree='hello,have you seen this caterpillar?'"
   ]
  },
  {
   "cell_type": "code",
   "execution_count": 50,
   "id": "20e63a0e-b775-45d3-9467-1a4c75a53ce3",
   "metadata": {},
   "outputs": [
    {
     "data": {
      "text/plain": [
       "<re.Match object; span=(26, 33), match='catfish'>"
      ]
     },
     "execution_count": 50,
     "metadata": {},
     "output_type": "execute_result"
    }
   ],
   "source": [
    "re.search(r'cat(fish|nap|claw)',textone)"
   ]
  },
  {
   "cell_type": "code",
   "execution_count": 51,
   "id": "f87bfb6a-ad98-448e-9742-337fcafd823d",
   "metadata": {},
   "outputs": [
    {
     "data": {
      "text/plain": [
       "<re.Match object; span=(31, 37), match='catnap'>"
      ]
     },
     "execution_count": 51,
     "metadata": {},
     "output_type": "execute_result"
    }
   ],
   "source": [
    "re.search(r'cat(fish|nap|claw)',texttwo)"
   ]
  },
  {
   "cell_type": "code",
   "execution_count": 52,
   "id": "bb2ae78d-9a56-4d99-b7d5-7c3af77525aa",
   "metadata": {},
   "outputs": [],
   "source": [
    "re.search(r'cat(fish|nap|claw)',textthree)"
   ]
  },
  {
   "cell_type": "code",
   "execution_count": null,
   "id": "dfbaaf4c-4ff8-4a8e-9159-299b41f2e661",
   "metadata": {},
   "outputs": [],
   "source": []
  }
 ],
 "metadata": {
  "kernelspec": {
   "display_name": "Python 3 (ipykernel)",
   "language": "python",
   "name": "python3"
  },
  "language_info": {
   "codemirror_mode": {
    "name": "ipython",
    "version": 3
   },
   "file_extension": ".py",
   "mimetype": "text/x-python",
   "name": "python",
   "nbconvert_exporter": "python",
   "pygments_lexer": "ipython3",
   "version": "3.12.4"
  }
 },
 "nbformat": 4,
 "nbformat_minor": 5
}

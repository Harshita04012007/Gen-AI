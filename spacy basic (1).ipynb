{
 "cells": [
  {
   "cell_type": "code",
   "execution_count": 1,
   "id": "2fdb9457-658b-454f-9992-c2e59df928e9",
   "metadata": {},
   "outputs": [
    {
     "name": "stdout",
     "output_type": "stream",
     "text": [
      "Tesla PROPN nsubj\n",
      "is AUX aux\n",
      "looking VERB ROOT\n",
      "at ADP prep\n",
      "buying VERB pcomp\n",
      "u.s.started ADJ dobj\n",
      "for ADP prep\n",
      "$ SYM nmod\n",
      "6million NUM pobj\n"
     ]
    }
   ],
   "source": [
    "# import spacy and load  \n",
    "import spacy\n",
    "nlp=spacy.load('en_core_web_sm')\n",
    "#create a doc object\n",
    "doc=nlp(u'Tesla is looking at buying u.s.started for $6million')\n",
    "#orint each taken separtely\n",
    "for token in doc:\n",
    "    print(token.text,token.pos_,token.dep_)"
   ]
  },
  {
   "cell_type": "code",
   "execution_count": 2,
   "id": "2941ad8a-7b57-4b8b-9db7-62b360ded980",
   "metadata": {},
   "outputs": [],
   "source": [
    "#pipelines"
   ]
  },
  {
   "cell_type": "markdown",
   "id": "4963bceb-9b0e-496a-aea3-029bbc842ba3",
   "metadata": {},
   "source": []
  },
  {
   "cell_type": "code",
   "execution_count": 3,
   "id": "2cc15cef-9176-43e3-a1fe-c2877591bd87",
   "metadata": {},
   "outputs": [
    {
     "data": {
      "text/plain": [
       "[('tok2vec', <spacy.pipeline.tok2vec.Tok2Vec at 0x118b2ca59d0>),\n",
       " ('tagger', <spacy.pipeline.tagger.Tagger at 0x118b2ca54f0>),\n",
       " ('parser', <spacy.pipeline.dep_parser.DependencyParser at 0x118b2ce07b0>),\n",
       " ('attribute_ruler',\n",
       "  <spacy.pipeline.attributeruler.AttributeRuler at 0x118b2f85c90>),\n",
       " ('lemmatizer', <spacy.lang.en.lemmatizer.EnglishLemmatizer at 0x118b2f25c50>),\n",
       " ('ner', <spacy.pipeline.ner.EntityRecognizer at 0x118b2ce0a50>)]"
      ]
     },
     "execution_count": 3,
     "metadata": {},
     "output_type": "execute_result"
    }
   ],
   "source": [
    "nlp.pipeline"
   ]
  },
  {
   "cell_type": "code",
   "execution_count": 4,
   "id": "0ca1c1b7-e0e1-4195-a79a-3a3c32eaecca",
   "metadata": {},
   "outputs": [
    {
     "data": {
      "text/plain": [
       "['tok2vec', 'tagger', 'parser', 'attribute_ruler', 'lemmatizer', 'ner']"
      ]
     },
     "execution_count": 4,
     "metadata": {},
     "output_type": "execute_result"
    }
   ],
   "source": [
    "nlp.pipe_names"
   ]
  },
  {
   "cell_type": "code",
   "execution_count": 5,
   "id": "95dfdee1-1914-4694-ad75-bd289e6ea8a7",
   "metadata": {},
   "outputs": [],
   "source": [
    "#Tokenization\n",
    "\n"
   ]
  },
  {
   "cell_type": "code",
   "execution_count": 6,
   "id": "37d0e5b7-fea1-44e4-b42b-6c54ea2efbd9",
   "metadata": {},
   "outputs": [
    {
     "name": "stdout",
     "output_type": "stream",
     "text": [
      "Tesla PROPN nsubj\n",
      "is AUX aux\n",
      "n't PART neg\n",
      "  SPACE dep\n",
      "looking VERB ROOT\n",
      "into ADP prep\n",
      "startups NOUN pobj\n",
      "anymore ADV advmod\n",
      ". PUNCT punct\n"
     ]
    }
   ],
   "source": [
    "doc2=nlp(u\"Tesla isn't  looking into startups anymore.\")\n",
    "for token in doc2:\n",
    "    print(token.text,token.pos_,token.dep_)"
   ]
  },
  {
   "cell_type": "code",
   "execution_count": 7,
   "id": "c8390412-36d0-44fe-950e-296a1053215a",
   "metadata": {},
   "outputs": [
    {
     "data": {
      "text/plain": [
       "Tesla isn't  looking into startups anymore."
      ]
     },
     "execution_count": 7,
     "metadata": {},
     "output_type": "execute_result"
    }
   ],
   "source": [
    "doc2"
   ]
  },
  {
   "cell_type": "code",
   "execution_count": 8,
   "id": "c4758ec4-8c5c-411e-a922-2aabc95fa1f6",
   "metadata": {},
   "outputs": [
    {
     "data": {
      "text/plain": [
       "Tesla"
      ]
     },
     "execution_count": 8,
     "metadata": {},
     "output_type": "execute_result"
    }
   ],
   "source": [
    "doc2[0]"
   ]
  },
  {
   "cell_type": "code",
   "execution_count": 9,
   "id": "0d46b7a3-5d46-4ab3-a023-ed4931732302",
   "metadata": {},
   "outputs": [
    {
     "data": {
      "text/plain": [
       "spacy.tokens.doc.Doc"
      ]
     },
     "execution_count": 9,
     "metadata": {},
     "output_type": "execute_result"
    }
   ],
   "source": [
    "type(doc2)"
   ]
  },
  {
   "cell_type": "code",
   "execution_count": 10,
   "id": "d7e37b4c-5e23-4ce6-bf27-1b5a46481ae2",
   "metadata": {},
   "outputs": [],
   "source": [
    "#part of speech"
   ]
  },
  {
   "cell_type": "code",
   "execution_count": 39,
   "id": "abb41187-210b-4914-8b7d-eaf523a4dd5a",
   "metadata": {},
   "outputs": [
    {
     "data": {
      "text/plain": [
       "'PROPN'"
      ]
     },
     "execution_count": 39,
     "metadata": {},
     "output_type": "execute_result"
    }
   ],
   "source": [
    "doc2[0].pos_"
   ]
  },
  {
   "cell_type": "code",
   "execution_count": null,
   "id": "14faa748-fe4e-48f0-a7a2-6d189af4b436",
   "metadata": {},
   "outputs": [],
   "source": []
  },
  {
   "cell_type": "code",
   "execution_count": 11,
   "id": "796453bb-d2b3-4d24-9671-9ec39b9a3242",
   "metadata": {},
   "outputs": [],
   "source": [
    "#dependence: we also looked at the syntactic dependencies assigned to each token.tesla is identified as an nsubj or the nominal subject of the sentence.\n",
    "#for a full list of syntactic dependencies visit https://spacy.io/api/annonation\n"
   ]
  },
  {
   "cell_type": "code",
   "execution_count": 12,
   "id": "a084d597-b25d-444d-b7a4-282125ebac13",
   "metadata": {},
   "outputs": [
    {
     "data": {
      "text/plain": [
       "'nsubj'"
      ]
     },
     "execution_count": 12,
     "metadata": {},
     "output_type": "execute_result"
    }
   ],
   "source": [
    "doc2[0].dep_"
   ]
  },
  {
   "cell_type": "code",
   "execution_count": 13,
   "id": "3e00326d-ef0e-4aa2-af70-5f749ac121db",
   "metadata": {},
   "outputs": [
    {
     "data": {
      "text/plain": [
       "'proper noun'"
      ]
     },
     "execution_count": 13,
     "metadata": {},
     "output_type": "execute_result"
    }
   ],
   "source": [
    "spacy.explain('PROPN')"
   ]
  },
  {
   "cell_type": "code",
   "execution_count": 14,
   "id": "f627181c-cf87-4a63-bf16-8c7dd4b91b73",
   "metadata": {},
   "outputs": [
    {
     "data": {
      "text/plain": [
       "'nominal subject'"
      ]
     },
     "execution_count": 14,
     "metadata": {},
     "output_type": "execute_result"
    }
   ],
   "source": [
    "spacy.explain('nsubj')"
   ]
  },
  {
   "cell_type": "code",
   "execution_count": 15,
   "id": "326496e0-d837-4ed8-8357-83ada8b64ae6",
   "metadata": {},
   "outputs": [],
   "source": [
    "#additional token atrribute:we will see these AGAIN IN UPCOMING LECTURES FOR NOW WE JUST WANT TO ILLUSTRATAE"
   ]
  },
  {
   "cell_type": "code",
   "execution_count": 16,
   "id": "5b8a0b04-a5f2-4614-afc2-884af3661a45",
   "metadata": {},
   "outputs": [
    {
     "name": "stdout",
     "output_type": "stream",
     "text": [
      "looking\n",
      "look\n"
     ]
    }
   ],
   "source": [
    "#LEmmas (the base form  of the word):\n",
    "print(doc2[4].text)\n",
    "print(doc2[4].lemma_)"
   ]
  },
  {
   "cell_type": "code",
   "execution_count": 17,
   "id": "8051161d-e3f5-4525-b6c9-74550d5e842b",
   "metadata": {},
   "outputs": [
    {
     "name": "stdout",
     "output_type": "stream",
     "text": [
      "VERB\n",
      "VBG / verb, gerund or present participle\n"
     ]
    }
   ],
   "source": [
    "#simple part of speech &detailed tags:\n",
    "print(doc2[4].pos_)\n",
    "print(doc2[4].tag_ +' / '+ spacy.explain(doc2[4].tag_))"
   ]
  },
  {
   "cell_type": "code",
   "execution_count": 20,
   "id": "0b317f37-1fc9-42d8-8e31-3e9def707675",
   "metadata": {},
   "outputs": [
    {
     "name": "stdout",
     "output_type": "stream",
     "text": [
      " \n"
     ]
    }
   ],
   "source": [
    "print(doc2[3].text)"
   ]
  },
  {
   "cell_type": "code",
   "execution_count": 21,
   "id": "bed36392-e4ae-4f94-88b4-f027ae18a442",
   "metadata": {},
   "outputs": [
    {
     "name": "stdout",
     "output_type": "stream",
     "text": [
      "Tesla: Xxxxx\n",
      "u.s.started: x.x.xxxx\n"
     ]
    }
   ],
   "source": [
    "#word shape:\n",
    "print(doc2[0].text+': '+doc2[0].shape_)\n",
    "print(doc[5].text+': '+doc[5].shape_)"
   ]
  },
  {
   "cell_type": "code",
   "execution_count": 23,
   "id": "1a9a11c5-a10c-4494-bd1b-25b852dce9b8",
   "metadata": {},
   "outputs": [
    {
     "name": "stdout",
     "output_type": "stream",
     "text": [
      "True\n",
      "False\n"
     ]
    }
   ],
   "source": [
    "#boolean values:\n",
    "print(doc2[0].is_alpha)\n",
    "print(doc2[0].is_stop)"
   ]
  },
  {
   "cell_type": "code",
   "execution_count": 24,
   "id": "a4511602-9761-424d-8124-18a17b4ebf42",
   "metadata": {},
   "outputs": [],
   "source": [
    "#span:large doc objects can be hard to work with at times .a span is a slice of doc object in the form doc[start:stop].\n"
   ]
  },
  {
   "cell_type": "code",
   "execution_count": 29,
   "id": "4a41dfda-6ac2-44e0-95ef-9eafb4e49fed",
   "metadata": {},
   "outputs": [
    {
     "name": "stderr",
     "output_type": "stream",
     "text": [
      "<>:1: SyntaxWarning: invalid escape sequence '\\ '\n",
      "<>:1: SyntaxWarning: invalid escape sequence '\\ '\n",
      "C:\\Users\\Harshita\\AppData\\Local\\Temp\\ipykernel_6768\\2733300919.py:1: SyntaxWarning: invalid escape sequence '\\ '\n",
      "  doc3 = nlp(u'Although commonly attributed to john lennon from his song \"Beautiful boy\",\\ the phrase \"Life is what happens to us while we are making  other plans\" was written by \\cartoonist Allen saunders and published in Reader\\'s Digest in 1957,when lennon was 17.')\n"
     ]
    }
   ],
   "source": [
    "doc3 = nlp(u'Although commonly attributed to john lennon from his song \"Beautiful boy\",\\ the phrase \"Life is what happens to us while we are making  other plans\" was written by \\cartoonist Allen saunders and published in Reader\\'s Digest in 1957,when lennon was 17.')"
   ]
  },
  {
   "cell_type": "code",
   "execution_count": 30,
   "id": "d99bffd5-bdf6-4e97-a8c2-763489028fb2",
   "metadata": {},
   "outputs": [
    {
     "name": "stdout",
     "output_type": "stream",
     "text": [
      "is what happens to us while we are making  other plans\" was\n"
     ]
    }
   ],
   "source": [
    "life_quote=doc3[16:30]\n",
    "print(life_quote)"
   ]
  },
  {
   "cell_type": "code",
   "execution_count": 31,
   "id": "220313cd-b8ed-43b7-98dd-80ff6e80ccd0",
   "metadata": {},
   "outputs": [
    {
     "data": {
      "text/plain": [
       "spacy.tokens.span.Span"
      ]
     },
     "execution_count": 31,
     "metadata": {},
     "output_type": "execute_result"
    }
   ],
   "source": [
    "type(life_quote)"
   ]
  },
  {
   "cell_type": "code",
   "execution_count": 32,
   "id": "43676200-5714-415b-8bd2-e43e8988d068",
   "metadata": {},
   "outputs": [],
   "source": [
    "#sentences: certain token inside a doc object may also receive a\"start of sente3ence\"tag.while this doesn't immediately build a list of sentence these tag enaable the generation of senetences segments through doc.sents.later we will write our own segemntation rules"
   ]
  },
  {
   "cell_type": "code",
   "execution_count": 37,
   "id": "36334645-f88f-4116-a842-7f8465532655",
   "metadata": {},
   "outputs": [],
   "source": [
    "doc4 = nlp(u'this is the first senetence. this is another senetence. this the last sentence')"
   ]
  },
  {
   "cell_type": "code",
   "execution_count": 38,
   "id": "6d93799c-fb24-444f-b6cd-ef4ffaeee4c1",
   "metadata": {},
   "outputs": [
    {
     "name": "stdout",
     "output_type": "stream",
     "text": [
      "this is the first senetence.\n",
      "this is another senetence.\n",
      "this the last sentence\n"
     ]
    }
   ],
   "source": [
    "for sent in doc4.sents:\n",
    "    print(sent)"
   ]
  },
  {
   "cell_type": "code",
   "execution_count": null,
   "id": "e4fed1b1-51a0-42df-978a-2212c4502c58",
   "metadata": {},
   "outputs": [],
   "source": []
  }
 ],
 "metadata": {
  "kernelspec": {
   "display_name": "Python 3 (ipykernel)",
   "language": "python",
   "name": "python3"
  },
  "language_info": {
   "codemirror_mode": {
    "name": "ipython",
    "version": 3
   },
   "file_extension": ".py",
   "mimetype": "text/x-python",
   "name": "python",
   "nbconvert_exporter": "python",
   "pygments_lexer": "ipython3",
   "version": "3.12.4"
  }
 },
 "nbformat": 4,
 "nbformat_minor": 5
}

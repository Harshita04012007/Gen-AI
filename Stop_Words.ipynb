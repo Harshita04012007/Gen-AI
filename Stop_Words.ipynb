{
  "nbformat": 4,
  "nbformat_minor": 0,
  "metadata": {
    "colab": {
      "provenance": []
    },
    "kernelspec": {
      "name": "python3",
      "display_name": "Python 3"
    },
    "language_info": {
      "name": "python"
    }
  },
  "cells": [
    {
      "cell_type": "markdown",
      "source": [
        "Stop Words\n",
        "\n",
        "Words like \"a\" and \"the\" appear so frequently that they don't require tagging as thoroughly as nouns, verbs and modifiers. We call these stop words, and they can be filtered from the text to be processed. spaCy holds a built-in list of some 305 English stop words."
      ],
      "metadata": {
        "id": "Uvj6El5k6yN3"
      }
    },
    {
      "cell_type": "code",
      "source": [
        "# Perform standard imports:\n",
        "import spacy\n",
        "nlp = spacy.load('en_core_web_sm')"
      ],
      "metadata": {
        "id": "_Ika5xt-7Z9a"
      },
      "execution_count": null,
      "outputs": []
    },
    {
      "cell_type": "code",
      "source": [
        "# Print\n",
        "print(nlp.Defaults.stop_words)"
      ],
      "metadata": {
        "colab": {
          "base_uri": "https://localhost:8080/"
        },
        "id": "wDg8-q7e7igN",
        "outputId": "61466ee5-8dd3-4bc2-a16f-ecdc66f4d056"
      },
      "execution_count": null,
      "outputs": [
        {
          "output_type": "stream",
          "name": "stdout",
          "text": [
            "{'among', 'where', 'so', 'anyone', 'formerly', 'sixty', \"'s\", 'these', 'hereafter', 'various', 'thence', 'even', 'sometime', 'someone', 'eleven', 'hers', 'hereby', 'an', 'twelve', 'against', '’m', 'beforehand', 'per', 'call', 'herein', 'nine', 'of', 'because', 'doing', 'former', 'anyhow', 'used', 'ours', 'still', \"'d\", 'who', 'again', 'can', 'the', 'is', 'it', 'enough', 'same', 'unless', 'using', 'most', 'become', 'mostly', 'afterwards', 'four', 'until', 'else', 'n‘t', 're', 'either', 'whether', 'cannot', 'by', 'beyond', 'further', 'since', 'empty', 'only', 'himself', 'down', 'alone', '’s', 'really', 'often', 'whereas', 'was', 'when', 'together', 'below', 'nowhere', 'almost', 'within', 'anywhere', 'every', 'toward', 'also', 'becomes', 'last', 'whoever', 'could', 'over', 'without', 'about', 'very', \"'re\", 'he', 'its', 'onto', '’re', 'perhaps', 'seem', 'many', 'out', 'throughout', 'amount', 'five', 'anyway', 'how', 'except', 'once', 'twenty', 'ever', 'been', 'anything', 'keep', 'forty', 'well', 'now', 'put', 'serious', 'hence', 'may', 'me', 'moreover', 'them', 'seeming', 'a', 'amongst', 'quite', 'should', 'nor', 'am', 'each', 'we', 'their', 'make', 'our', 'first', 'themselves', 'thru', 'whereupon', 'us', 'latterly', 'at', 'go', 'another', 'rather', 'which', 'and', 'nothing', 'if', 'you', 'top', 'will', 'wherein', 'thereby', 'do', 'on', 'yet', 'your', 'across', 'this', 'whose', 'being', 'somehow', 'whatever', 'therefore', 'whole', 'meanwhile', 'or', 'regarding', 'next', 'did', 'nobody', 'my', 'see', 'itself', 'third', 'two', 'due', 'were', 'ourselves', 'done', '’ve', 'upon', 'everyone', 'there', 'mine', 'indeed', 'via', 'such', 'otherwise', 'latter', '’d', 'while', 'during', 'seems', 'everywhere', 'becoming', 'are', 'had', 'all', 'more', 'eight', 'herself', 'own', \"'ll\", '‘ve', 'her', \"n't\", 'be', 'six', 'least', 'wherever', 'towards', 'with', 'from', 'have', 'no', 'please', 'fifty', 'for', 'three', 'whenever', 'but', 'between', 'namely', 'than', 'that', 'any', 'yours', 'up', 'take', 'whereby', 'thereupon', 'some', 'part', 'she', 'however', 'those', 'always', 'around', 'both', 'whence', \"'ve\", 'therein', 'other', 'whither', 'after', 'elsewhere', 'ca', 'show', 'before', 'less', 'back', '‘m', 'under', 'here', 'give', 'something', '’ll', 'never', 'front', 'i', 'along', 'though', 'does', 'fifteen', 'off', 'sometimes', '‘d', 'yourself', 'became', 'yourselves', 'noone', 'they', 'into', 'him', 'full', 'several', 'already', 'too', 'to', 'hundred', 'n’t', 'just', 'one', 'everything', 'made', 'in', \"'m\", 'bottom', 'has', 'might', 'as', 'whereafter', 'much', 'move', 'although', 'not', 'what', 'besides', 'then', 'seemed', 'beside', 'behind', '‘s', 'none', 'hereupon', 'why', 'thereafter', 'nevertheless', 'neither', 'above', 'others', '‘ll', 'through', 'say', 'would', 'side', 'ten', 'thus', 'few', 'name', 'get', 'myself', 'somewhere', 'his', '‘re', 'whom', 'must'}\n"
          ]
        }
      ]
    },
    {
      "cell_type": "code",
      "source": [
        "len(nlp.Defaults.stop_words)"
      ],
      "metadata": {
        "colab": {
          "base_uri": "https://localhost:8080/"
        },
        "id": "Hn-MYkXY7p6L",
        "outputId": "fa0f6394-1283-494c-c6dc-f87a2297437f"
      },
      "execution_count": null,
      "outputs": [
        {
          "output_type": "execute_result",
          "data": {
            "text/plain": [
              "326"
            ]
          },
          "metadata": {},
          "execution_count": 3
        }
      ]
    },
    {
      "cell_type": "markdown",
      "source": [
        "To see if a word is a stop word\n"
      ],
      "metadata": {
        "id": "61DQE4KK73KQ"
      }
    },
    {
      "cell_type": "code",
      "source": [
        "nlp.vocab[\"myself\"].is_stop"
      ],
      "metadata": {
        "colab": {
          "base_uri": "https://localhost:8080/"
        },
        "id": "PxJtMzlz76JK",
        "outputId": "13e9b663-e2bd-4a0d-9890-d94dbf31afac"
      },
      "execution_count": null,
      "outputs": [
        {
          "output_type": "execute_result",
          "data": {
            "text/plain": [
              "True"
            ]
          },
          "metadata": {},
          "execution_count": 4
        }
      ]
    },
    {
      "cell_type": "code",
      "source": [
        "nlp.vocab[\"mystery\"].is_stop"
      ],
      "metadata": {
        "colab": {
          "base_uri": "https://localhost:8080/"
        },
        "id": "0irHCpOp8DLc",
        "outputId": "5fd28092-f44e-48fb-c00e-6a726d6b85c7"
      },
      "execution_count": null,
      "outputs": [
        {
          "output_type": "execute_result",
          "data": {
            "text/plain": [
              "False"
            ]
          },
          "metadata": {},
          "execution_count": 6
        }
      ]
    },
    {
      "cell_type": "markdown",
      "source": [
        "To add a stop word\n",
        "\n",
        "There may be times when you wish to add a stop word to the default set. Perhaps you decide that 'btw' (common shorthand for \"by the way\") should be considered a stop word."
      ],
      "metadata": {
        "id": "OIc88wCf8LPQ"
      }
    },
    {
      "cell_type": "code",
      "source": [
        "# Add the word to the set of stop words. Use Lowercase!\n",
        "nlp.Defaults.stop_words.add(\"btw\")\n",
        "\n",
        "# Set the stop_word tag on the Lexeme\n",
        "nlp.vocab['btw'].is_stop = True"
      ],
      "metadata": {
        "id": "xV-tke3e8K5B"
      },
      "execution_count": null,
      "outputs": []
    },
    {
      "cell_type": "code",
      "source": [
        "len(nlp.Defaults.stop_words)"
      ],
      "metadata": {
        "colab": {
          "base_uri": "https://localhost:8080/"
        },
        "id": "wveylF2o81HN",
        "outputId": "84e27d9f-6ad2-4e8c-bb41-df5ba68c70aa"
      },
      "execution_count": null,
      "outputs": [
        {
          "output_type": "execute_result",
          "data": {
            "text/plain": [
              "327"
            ]
          },
          "metadata": {},
          "execution_count": 8
        }
      ]
    },
    {
      "cell_type": "code",
      "source": [
        "nlp.vocab['btw'].is_stop"
      ],
      "metadata": {
        "colab": {
          "base_uri": "https://localhost:8080/"
        },
        "id": "qH1fwCRh87a6",
        "outputId": "c6220660-5bf0-4f35-b1f8-23743004c5a1"
      },
      "execution_count": null,
      "outputs": [
        {
          "output_type": "execute_result",
          "data": {
            "text/plain": [
              "True"
            ]
          },
          "metadata": {},
          "execution_count": 10
        }
      ]
    },
    {
      "cell_type": "markdown",
      "source": [],
      "metadata": {
        "id": "52b8jeeR9-cA"
      }
    },
    {
      "cell_type": "code",
      "source": [
        "# Remove the word from the set of stop words\n",
        "nlp.Defaults.stop_words.remove(\"beyond\")\n",
        "\n",
        "# Remove the stop_wprd tag from the Lexeme\n",
        "nlp.vocab['beyond'].is_stop = True"
      ],
      "metadata": {
        "id": "YdD2-E4s-D8_"
      },
      "execution_count": null,
      "outputs": []
    },
    {
      "cell_type": "code",
      "source": [
        "len(nlp.Defaults.stop_words)"
      ],
      "metadata": {
        "colab": {
          "base_uri": "https://localhost:8080/"
        },
        "id": "PYn8bkJO-X6C",
        "outputId": "0f3a6c60-85ae-49a2-e62b-d11072fa4662"
      },
      "execution_count": null,
      "outputs": [
        {
          "output_type": "execute_result",
          "data": {
            "text/plain": [
              "326"
            ]
          },
          "metadata": {},
          "execution_count": 12
        }
      ]
    },
    {
      "cell_type": "code",
      "source": [
        "nlp.vocab['btw'].is_stop"
      ],
      "metadata": {
        "colab": {
          "base_uri": "https://localhost:8080/"
        },
        "id": "go2TsJBo-agt",
        "outputId": "0d12627f-7bbb-4978-c05a-2539fce82990"
      },
      "execution_count": null,
      "outputs": [
        {
          "output_type": "execute_result",
          "data": {
            "text/plain": [
              "True"
            ]
          },
          "metadata": {},
          "execution_count": 13
        }
      ]
    }
  ]
}
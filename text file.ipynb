{
 "cells": [
  {
   "cell_type": "code",
   "execution_count": 1,
   "id": "d851a09c-0b5a-448a-a15b-53688ebbe199",
   "metadata": {},
   "outputs": [
    {
     "name": "stdout",
     "output_type": "stream",
     "text": [
      "his name is fread.\n"
     ]
    }
   ],
   "source": [
    "#old format \n",
    "name = 'fread'\n",
    "print('his name is {var}.'.format(var=name))"
   ]
  },
  {
   "cell_type": "code",
   "execution_count": 2,
   "id": "79c55c13-2660-4121-9c63-b02ec07a825c",
   "metadata": {},
   "outputs": [
    {
     "name": "stdout",
     "output_type": "stream",
     "text": [
      "his name fread.\n"
     ]
    }
   ],
   "source": [
    "#using f string\n",
    "print(f'his name {name}.')"
   ]
  },
  {
   "cell_type": "code",
   "execution_count": 3,
   "id": "bf40be15-c10e-405d-8db2-83bf6703a42b",
   "metadata": {},
   "outputs": [
    {
     "name": "stdout",
     "output_type": "stream",
     "text": [
      "Address: 123 main street.\n"
     ]
    }
   ],
   "source": [
    "d={'a':123,'b':456}\n",
    "print(f'Address: {d['a']} main street.')"
   ]
  },
  {
   "cell_type": "code",
   "execution_count": 38,
   "id": "61426cb2-ec60-4c20-ae4a-5b1d3a3b0230",
   "metadata": {},
   "outputs": [
    {
     "name": "stdout",
     "output_type": "stream",
     "text": [
      "author               topic            pages.....\n",
      "twain                rafting          601.......\n",
      "author               topic            pages.....\n",
      "author               topic            pages.....\n"
     ]
    }
   ],
   "source": [
    "library =[('author','topic','pages'),('twain','rafting','601'),('feyman','physics','95'),('author','topic','pages')]\n",
    "for book in library:\n",
    "    print(f'{book[0]:{20}} {book[1]:{16}} {book[2]:.<{10}}')\n",
    "    \n",
    "\n"
   ]
  },
  {
   "cell_type": "code",
   "execution_count": 44,
   "id": "557a368d-e1f7-494d-ba80-e2196a5dc460",
   "metadata": {},
   "outputs": [
    {
     "name": "stdout",
     "output_type": "stream",
     "text": [
      "Today:2025-02-12\n"
     ]
    }
   ],
   "source": [
    "from datetime import date\n",
    "current=date.today()\n",
    "print(f\"Today:{current}\")\n"
   ]
  },
  {
   "cell_type": "code",
   "execution_count": 4,
   "id": "c9c778a9-ec90-4815-87b9-1826951fda63",
   "metadata": {},
   "outputs": [
    {
     "name": "stdout",
     "output_type": "stream",
     "text": [
      "Writing test.txt\n"
     ]
    }
   ],
   "source": [
    "%%writefile test.txt\n",
    "Hello, this is a quick test file.\n",
    "This is the second line of the file."
   ]
  },
  {
   "cell_type": "code",
   "execution_count": 5,
   "id": "ea88cf32-dffb-4376-94ba-025e63ae9107",
   "metadata": {},
   "outputs": [],
   "source": [
    "#opening the text.txt file we created\n",
    "my_file=open('test.txt')"
   ]
  },
  {
   "cell_type": "code",
   "execution_count": 6,
   "id": "38acc2b8-37d9-48d2-9a99-68198889b410",
   "metadata": {},
   "outputs": [
    {
     "data": {
      "text/plain": [
       "'Hello, this is a quick test file.\\nThis is the second line of the file.\\n'"
      ]
     },
     "execution_count": 6,
     "metadata": {},
     "output_type": "execute_result"
    }
   ],
   "source": [
    "my_file.read()"
   ]
  },
  {
   "cell_type": "code",
   "execution_count": 7,
   "id": "d4f06c05-fc1e-4dc9-b7e4-f339c3434852",
   "metadata": {},
   "outputs": [
    {
     "data": {
      "text/plain": [
       "'Hello, this is a quick test file.\\nThis is the second line of the file.\\n'"
      ]
     },
     "execution_count": 7,
     "metadata": {},
     "output_type": "execute_result"
    }
   ],
   "source": [
    "my_file.seek(0)\n",
    "my_file.read()"
   ]
  },
  {
   "cell_type": "code",
   "execution_count": 8,
   "id": "534ccb15-9d76-4639-8efb-c52588c80e2f",
   "metadata": {},
   "outputs": [],
   "source": [
    "#readlines()"
   ]
  },
  {
   "cell_type": "code",
   "execution_count": 12,
   "id": "6e29b991-cb15-401c-88dc-d4a5298adf94",
   "metadata": {},
   "outputs": [],
   "source": [
    "##you can read a file by line by line using the readlines method.use caution with large files,since everything will be held in memory we will learn how to iterate over large files later in the course"
   ]
  },
  {
   "cell_type": "code",
   "execution_count": 10,
   "id": "0c084f38-d2d8-478d-8271-55888d1127c1",
   "metadata": {},
   "outputs": [
    {
     "data": {
      "text/plain": [
       "0"
      ]
     },
     "execution_count": 10,
     "metadata": {},
     "output_type": "execute_result"
    }
   ],
   "source": [
    "#readlines returns a list of the lines in the file\n",
    "my_file.seek(0)"
   ]
  },
  {
   "cell_type": "code",
   "execution_count": 11,
   "id": "a52b5041-4dd2-411a-97ee-01bf6dea809f",
   "metadata": {},
   "outputs": [
    {
     "data": {
      "text/plain": [
       "['Hello, this is a quick test file.\\n',\n",
       " 'This is the second line of the file.\\n']"
      ]
     },
     "execution_count": 11,
     "metadata": {},
     "output_type": "execute_result"
    }
   ],
   "source": [
    "my_file.readlines()"
   ]
  },
  {
   "cell_type": "code",
   "execution_count": 13,
   "id": "15638a66-1eee-4088-a665-4303d27c461a",
   "metadata": {},
   "outputs": [],
   "source": [
    "#when you have finished using a file,it always good practice to close it\n",
    "my_file.close()"
   ]
  },
  {
   "cell_type": "code",
   "execution_count": 14,
   "id": "b07e1c15-4062-482c-b851-8c68e55fb6e6",
   "metadata": {},
   "outputs": [],
   "source": [
    "#writing to a file"
   ]
  },
  {
   "cell_type": "code",
   "execution_count": 22,
   "id": "5deb72ec-f975-48ff-aa30-2d681201f5e9",
   "metadata": {},
   "outputs": [],
   "source": [
    "#by default the open() function will only allow us to read the file,we need to pass the agrument \"w\" to write over the file.for example."
   ]
  },
  {
   "cell_type": "code",
   "execution_count": 16,
   "id": "c83c7f41-4201-4db3-b1f2-c4e1359bd394",
   "metadata": {},
   "outputs": [],
   "source": [
    "#add a second argument to the function,'w' which  stands for write.\n",
    "#passing'w+' lets us read and write to the file            #w+ mean we read and write file but w mean only write file do not read...\n",
    "my_file=open('test.txt','w+')"
   ]
  },
  {
   "cell_type": "code",
   "execution_count": 17,
   "id": "6144aee0-9648-4543-b1e3-984edfe53710",
   "metadata": {},
   "outputs": [
    {
     "data": {
      "text/plain": [
       "24"
      ]
     },
     "execution_count": 17,
     "metadata": {},
     "output_type": "execute_result"
    }
   ],
   "source": [
    "#write to the file\n",
    "my_file.write('this is a new first line')"
   ]
  },
  {
   "cell_type": "code",
   "execution_count": 18,
   "id": "06d06247-8012-4fe9-93fe-79963def469b",
   "metadata": {},
   "outputs": [
    {
     "data": {
      "text/plain": [
       "'this is a new first line'"
      ]
     },
     "execution_count": 18,
     "metadata": {},
     "output_type": "execute_result"
    }
   ],
   "source": [
    "#read the file\n",
    "my_file.seek(0)\n",
    "my_file.read()"
   ]
  },
  {
   "cell_type": "code",
   "execution_count": 19,
   "id": "1fe2215e-b876-4585-b38f-296c49c67f0e",
   "metadata": {},
   "outputs": [],
   "source": [
    "my_file.close()   # always do this when you're done with a file"
   ]
  },
  {
   "cell_type": "code",
   "execution_count": 20,
   "id": "afdbd212-17b2-4469-a6ac-eb7e9e4fff2e",
   "metadata": {},
   "outputs": [],
   "source": [
    "#appending to a file"
   ]
  },
  {
   "cell_type": "code",
   "execution_count": null,
   "id": "f9f18479-8ada-49c2-afd1-dac87e5a903c",
   "metadata": {},
   "outputs": [],
   "source": [
    "passing the argument'a' opens the file"
   ]
  },
  {
   "cell_type": "code",
   "execution_count": 23,
   "id": "841a8572-8fae-48ff-8444-24a7db2b5f00",
   "metadata": {},
   "outputs": [
    {
     "data": {
      "text/plain": [
       "23"
      ]
     },
     "execution_count": 23,
     "metadata": {},
     "output_type": "execute_result"
    }
   ],
   "source": [
    "my_file=open('test.txt','a+')\n",
    "my_file.write('\\nthis line is being appended to test.txt')\n",
    "my_file.write('\\nand another line here.')"
   ]
  },
  {
   "cell_type": "code",
   "execution_count": 24,
   "id": "6c36df9d-df5e-4243-981e-318b78fafcbd",
   "metadata": {},
   "outputs": [
    {
     "name": "stdout",
     "output_type": "stream",
     "text": [
      "this is a new first line\n",
      "this line is being appended to test.txt\n",
      "and another line here.\n"
     ]
    }
   ],
   "source": [
    "my_file.seek(0)\n",
    "print(my_file.read())"
   ]
  },
  {
   "cell_type": "code",
   "execution_count": 25,
   "id": "263a6f11-87b0-41e5-a0e2-8464df43e6ec",
   "metadata": {},
   "outputs": [],
   "source": [
    "my_file.close()"
   ]
  },
  {
   "cell_type": "code",
   "execution_count": 26,
   "id": "9187d5cf-949f-46ac-85c9-e0a1bc2d4c3f",
   "metadata": {},
   "outputs": [],
   "source": [
    "#aliases and context managers"
   ]
  },
  {
   "cell_type": "code",
   "execution_count": null,
   "id": "61fa2aca-bd6e-4703-bb2d-ad342c4f4762",
   "metadata": {},
   "outputs": [],
   "source": [
    "#you can assign temporary variable name as aliases andd managers the opening and closing files automaticallyn  using a context manager;\n",
    "#normally we open or close command  but when we using 'with 'command we do  not need to close it is automatically close..."
   ]
  },
  {
   "cell_type": "code",
   "execution_count": 27,
   "id": "ffd86f80-4d2c-469a-bf02-94a0897d320a",
   "metadata": {},
   "outputs": [
    {
     "name": "stdout",
     "output_type": "stream",
     "text": [
      "this is a new first line\n",
      "\n"
     ]
    }
   ],
   "source": [
    "with open('test.txt','r') as txt:\n",
    "    first_line=txt.readlines()[0]\n",
    "    print(first_line)"
   ]
  },
  {
   "cell_type": "code",
   "execution_count": 28,
   "id": "fa9f35b7-aff8-4f42-9863-629b84b87929",
   "metadata": {},
   "outputs": [],
   "source": [
    "#iterating through a file"
   ]
  },
  {
   "cell_type": "code",
   "execution_count": 31,
   "id": "c3dfa226-9f46-498a-b1f2-5ffa1c18070e",
   "metadata": {},
   "outputs": [
    {
     "name": "stdout",
     "output_type": "stream",
     "text": [
      "this is a new first line\n",
      " this line is being appended to test.txt\n",
      " and another line here. "
     ]
    }
   ],
   "source": [
    "with open('test.txt','r')as txt:\n",
    "    for line in txt:\n",
    "        print(line,end=' ')     #end='' argument removes extra linebreaks"
   ]
  },
  {
   "cell_type": "code",
   "execution_count": null,
   "id": "47f93314-6954-4880-a902-dae0e0e858ba",
   "metadata": {},
   "outputs": [],
   "source": []
  }
 ],
 "metadata": {
  "kernelspec": {
   "display_name": "Python 3 (ipykernel)",
   "language": "python",
   "name": "python3"
  },
  "language_info": {
   "codemirror_mode": {
    "name": "ipython",
    "version": 3
   },
   "file_extension": ".py",
   "mimetype": "text/x-python",
   "name": "python",
   "nbconvert_exporter": "python",
   "pygments_lexer": "ipython3",
   "version": "3.12.4"
  }
 },
 "nbformat": 4,
 "nbformat_minor": 5
}
